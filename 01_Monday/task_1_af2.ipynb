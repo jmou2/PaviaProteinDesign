{
 "cells": [
  {
   "cell_type": "code",
   "execution_count": null,
   "metadata": {},
   "outputs": [],
   "source": [
    "[![Open In Colab](https://colab.research.google.com/assets/colab-badge.svg)](https://colab.research.google.com/github/jmou2/PaviaProteinDesign/blob/main/01_Monday/task_1_af2.ipynb)"
   ]
  },
  {
   "cell_type": "markdown",
   "metadata": {},
   "source": [
    "# AlphaFolding a protein structure\n",
    "\n",
    "Our goal in this task is to understand how to make, use and analyze AlphaFold 2 (AF2) predictions of protein strucutres. Alphafold is a deep learning model that gives a single (or multiple ranked) protein structure(s) when given the amino acid sequence of a protein. \n",
    "\n",
    "While the primary use of AF2 in many biology labs is to predict the structures of proteins without a solved structure, numerous publications have now shown that it can be used to predict the stability of a designed protein. By folding the structure without any Multiple Sequence Alignment (MSA) information, otherwise known as single-sequence-mode, we can understand how confidently a particular sequence folds into its cognate structure. Proteins that are confidently predicted to fold into the correct structure with a low RMSD are often more stable, monomeric, and soluble in the lab. \n"
   ]
  },
  {
   "cell_type": "markdown",
   "metadata": {},
   "source": [
    "### Setup\n",
    "Run the cell below to download and install ProDy."
   ]
  },
  {
   "cell_type": "code",
   "execution_count": null,
   "metadata": {},
   "outputs": [],
   "source": [
    "! pip install prody\n",
    "\n",
    "import prody as pr"
   ]
  },
  {
   "cell_type": "markdown",
   "metadata": {},
   "source": [
    "### 1 - Choosing a protein and cleaning it up\n",
    "\n",
    "Download any structure of your choosing from the [PDB](https://www.rcsb.org/). Load it into a prody object and clean it up by:\n",
    "- removing any heteroatoms like waters, ligands, or solvents\n",
    "- deleting extra chains in the asymmetric unit (using a multiple chain protein is ok, but may be harder to fold and align)\n",
    "\n",
    "Save the cleaned up protein as a pdb file. \n",
    "\n",
    "For simplicity, avoid large proteins (stay <1000 amino acids) and choose a single-chain protein, or pick 1-2 chains within a protein to fold.\n",
    "\n"
   ]
  },
  {
   "cell_type": "code",
   "execution_count": null,
   "metadata": {},
   "outputs": [],
   "source": [
    "# download the protein\n",
    "\n",
    "\n",
    "# clean up the protein\n",
    "\n",
    "\n",
    "# save the protein as a pdb file"
   ]
  },
  {
   "cell_type": "markdown",
   "metadata": {},
   "source": [
    "### 2 - Alphafold your protein\n",
    "\n",
    "We will use an [Colabfold](https://colab.research.google.com/github/sokrypton/ColabFold/blob/main/AlphaFold2.ipynb) to fold our protein. \n",
    "\n",
    "Prepare the sequence of your protein using ProDy below and paste it into the `query_sequence` input in the ColabFold notebook. Make sure `template_mode` is set to none. \n",
    "\n",
    "Next, change the `msa_mode` to `single_sequence`. \n",
    "\n",
    "Click \"Runtime\" --> \"Run all\". Note that there are additional explanations at the bottom of the colabfold notebook."
   ]
  },
  {
   "cell_type": "code",
   "execution_count": null,
   "metadata": {},
   "outputs": [],
   "source": [
    "# get the sequence of your cleaned up protein using ProDy\n"
   ]
  },
  {
   "cell_type": "markdown",
   "metadata": {},
   "source": [
    "### 3 - Analyze the Alphafolded structure \n",
    "\n",
    "Read in your rank 1 predicted structure into a ProDy object. Superpose the predicted structure with the cleaned up protein and calculate the RMSD of the CA atoms. Save the superposed prediction and open both the original and superposed predicted structures in pymol.\n",
    "\n",
    "In pymol, color the predicted structure by b-factor. This is a per-residue representation of the confidence of AF2 predictions. \n",
    "\n",
    "What can you notice about the confidence for different secondary structures? How does the confidence of the structure compare with its alignment? \n",
    "\n",
    "If only part of your structure is folded properly, you may want to perform the alignemnt only using a subset of atoms. In this case, you can use ProDy to select the atoms before performing the transformation calculation (for instance, calculate the transformation using only CA atoms in residues 10-200). The transformation will always be applied to all the atoms in the prody object.\n"
   ]
  },
  {
   "cell_type": "code",
   "execution_count": null,
   "metadata": {},
   "outputs": [],
   "source": [
    "# parse the alphafolded structure \n",
    "\n",
    "\n",
    "# superpose the predicted structure \n",
    "\n",
    "\n",
    "# calculate the RMSD\n",
    "\n",
    "\n",
    "# save the superposed prediction"
   ]
  },
  {
   "cell_type": "markdown",
   "metadata": {},
   "source": [
    "### 4 - Bonus: fold mulitple proteins and compare their AlphaFold RMSDs\n",
    "\n",
    "Pick a set of proteins for which you would like to compare the \"foldability\". This could be a protein which has a thermophilic and non-thermophilic counterpart; proteins of different folds or sizes; a rigid versus flexible protein; or a de novo versus a native protein. "
   ]
  },
  {
   "cell_type": "code",
   "execution_count": null,
   "metadata": {},
   "outputs": [],
   "source": [
    "# your code here"
   ]
  }
 ],
 "metadata": {
  "language_info": {
   "name": "python"
  }
 },
 "nbformat": 4,
 "nbformat_minor": 2
}
